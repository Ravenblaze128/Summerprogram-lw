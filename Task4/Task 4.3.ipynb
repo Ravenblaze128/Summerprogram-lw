{
 "cells": [
  {
   "cell_type": "code",
   "execution_count": 1,
   "id": "5db79c38",
   "metadata": {},
   "outputs": [],
   "source": [
    "import cv2\n",
    "import numpy as np"
   ]
  },
  {
   "cell_type": "code",
   "execution_count": 2,
   "id": "1ffb123f",
   "metadata": {},
   "outputs": [],
   "source": [
    "img1 = cv2.imread(\"Hello there.png\")\n",
    "img2 = cv2.imread(\"General Kenobi.png\")"
   ]
  },
  {
   "cell_type": "code",
   "execution_count": 3,
   "id": "2fe80d28",
   "metadata": {},
   "outputs": [
    {
     "data": {
      "text/plain": [
       "(206, 499, 3)"
      ]
     },
     "execution_count": 3,
     "metadata": {},
     "output_type": "execute_result"
    }
   ],
   "source": [
    "img1.shape"
   ]
  },
  {
   "cell_type": "code",
   "execution_count": 4,
   "id": "54dcde7e",
   "metadata": {},
   "outputs": [
    {
     "data": {
      "text/plain": [
       "(209, 497, 3)"
      ]
     },
     "execution_count": 4,
     "metadata": {},
     "output_type": "execute_result"
    }
   ],
   "source": [
    "img2.shape"
   ]
  },
  {
   "cell_type": "code",
   "execution_count": 5,
   "id": "b3527d19",
   "metadata": {},
   "outputs": [],
   "source": [
    "img2 = img2[0:206,:]"
   ]
  },
  {
   "cell_type": "code",
   "execution_count": 6,
   "id": "91251fb5",
   "metadata": {},
   "outputs": [
    {
     "data": {
      "text/plain": [
       "(206, 497, 3)"
      ]
     },
     "execution_count": 6,
     "metadata": {},
     "output_type": "execute_result"
    }
   ],
   "source": [
    "img2.shape"
   ]
  },
  {
   "cell_type": "code",
   "execution_count": 7,
   "id": "6602f290",
   "metadata": {},
   "outputs": [],
   "source": [
    "cv2.imshow(\"1\", img1)\n",
    "cv2.waitKey()\n",
    "cv2.destroyAllWindows()"
   ]
  },
  {
   "cell_type": "code",
   "execution_count": 8,
   "id": "c8e8b139",
   "metadata": {},
   "outputs": [],
   "source": [
    "cv2.imshow(\"2\", img2)\n",
    "cv2.waitKey()\n",
    "cv2.destroyAllWindows()"
   ]
  },
  {
   "cell_type": "code",
   "execution_count": 9,
   "id": "b3fc6a45",
   "metadata": {},
   "outputs": [],
   "source": [
    "collage = np.hstack((img1,img2))\n",
    "cv2.imshow(\"ROTS\",collage)\n",
    "cv2.waitKey()\n",
    "cv2.destroyAllWindows()"
   ]
  }
 ],
 "metadata": {
  "kernelspec": {
   "display_name": "Python 3",
   "language": "python",
   "name": "python3"
  },
  "language_info": {
   "codemirror_mode": {
    "name": "ipython",
    "version": 3
   },
   "file_extension": ".py",
   "mimetype": "text/x-python",
   "name": "python",
   "nbconvert_exporter": "python",
   "pygments_lexer": "ipython3",
   "version": "3.8.8"
  }
 },
 "nbformat": 4,
 "nbformat_minor": 5
}
