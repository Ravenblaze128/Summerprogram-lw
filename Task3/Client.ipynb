{
 "cells": [
  {
   "cell_type": "code",
   "execution_count": null,
   "id": "1bb2f7a3",
   "metadata": {},
   "outputs": [],
   "source": [
    "#Importing Libraries"
   ]
  },
  {
   "cell_type": "code",
   "execution_count": null,
   "id": "5e9553de",
   "metadata": {},
   "outputs": [],
   "source": [
    "import socket\n",
    "import cv2\n",
    "import pickle\n",
    "import struct\n",
    "import imutils"
   ]
  },
  {
   "cell_type": "code",
   "execution_count": null,
   "id": "30ef95ed",
   "metadata": {},
   "outputs": [],
   "source": [
    "#Connecting Socket"
   ]
  },
  {
   "cell_type": "code",
   "execution_count": null,
   "id": "bf7c3014",
   "metadata": {},
   "outputs": [],
   "source": [
    "client_socket = socket.socket(socket.AF_INET,socket.SOCK_STREAM)\n",
    "host_ip = '<HOST IP>'\n",
    "port = <PORT_NO>"
   ]
  },
  {
   "cell_type": "code",
   "execution_count": null,
   "id": "b1a8264a",
   "metadata": {},
   "outputs": [],
   "source": [
    "client_socket.connect((host_ip,port)) \n",
    "data = b\"\"\n",
    "payload_size = struct.calcsize(\"Q\")"
   ]
  },
  {
   "cell_type": "code",
   "execution_count": null,
   "id": "7b8c7fa5",
   "metadata": {},
   "outputs": [],
   "source": [
    "while True:\n",
    "    while len(data) < payload_size:\n",
    "        packet = client_socket.recv(4*1024)\n",
    "        if not packet: break\n",
    "        data+=packet\n",
    "    packed_msg_size = data[:payload_size]\n",
    "    data = data[payload_size:]\n",
    "    msg_size = struct.unpack(\"Q\",packed_msg_size)[0]\n",
    "\n",
    "    while len(data) < msg_size:\n",
    "        data += client_socket.recv(4*1024)\n",
    "    frame_data = data[:msg_size]\n",
    "    data  = data[msg_size:]\n",
    "    frame = pickle.loads(frame_data)\n",
    "    cv2.imshow(\"Receiving...\",frame)\n",
    "    key = cv2.waitKey(10) \n",
    "    if key  == 13:\n",
    "        break\n",
    "client_socket.close()"
   ]
  },
  {
   "cell_type": "code",
   "execution_count": null,
   "id": "b03f61aa",
   "metadata": {},
   "outputs": [],
   "source": []
  }
 ],
 "metadata": {
  "kernelspec": {
   "display_name": "Python 3",
   "language": "python",
   "name": "python3"
  },
  "language_info": {
   "codemirror_mode": {
    "name": "ipython",
    "version": 3
   },
   "file_extension": ".py",
   "mimetype": "text/x-python",
   "name": "python",
   "nbconvert_exporter": "python",
   "pygments_lexer": "ipython3",
   "version": "3.8.8"
  }
 },
 "nbformat": 4,
 "nbformat_minor": 5
}
